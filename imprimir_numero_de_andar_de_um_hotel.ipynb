{
  "nbformat": 4,
  "nbformat_minor": 0,
  "metadata": {
    "colab": {
      "provenance": [],
      "authorship_tag": "ABX9TyPoZwGoUCPJ3EKnHLpZlohM",
      "include_colab_link": true
    },
    "kernelspec": {
      "name": "python3",
      "display_name": "Python 3"
    },
    "language_info": {
      "name": "python"
    }
  },
  "cells": [
    {
      "cell_type": "markdown",
      "metadata": {
        "id": "view-in-github",
        "colab_type": "text"
      },
      "source": [
        "<a href=\"https://colab.research.google.com/github/guilhermexsouza/talento-cloud/blob/main/imprimir_numero_de_andar_de_um_hotel.ipynb\" target=\"_parent\"><img src=\"https://colab.research.google.com/assets/colab-badge.svg\" alt=\"Open In Colab\"/></a>"
      ]
    },
    {
      "cell_type": "markdown",
      "source": [
        "#Imprimir numero de andar de um hotel\n",
        "\n",
        "Autor Guilherme Xavier de Souza"
      ],
      "metadata": {
        "id": "hkFcJ_5Ix8ov"
      }
    },
    {
      "cell_type": "markdown",
      "source": [
        "INSTRUÇÕES DO PROJETO\n",
        "Precisamos imprimir um número para cada andar de um hotel de 20 andares. Porém, o dono do hotel é supersticioso e optou por não ter um 13ro andar.\n",
        "\n",
        "Escreva um código que imprima todos os números exceto o número 13.\n",
        "Escreva mais dois códigos que resolvam o mesmo problema, mas dessa vez usando os outros dois tipos de laços de repetição aprendidos.\n",
        "\n",
        "Como desafio, imprima eles em ordem decrescente (20, 19, 18...)"
      ],
      "metadata": {
        "id": "rtSTL_c0yKC2"
      }
    },
    {
      "cell_type": "markdown",
      "source": [
        "## Solução 1"
      ],
      "metadata": {
        "id": "BOBndDXbyt7r"
      }
    },
    {
      "cell_type": "code",
      "execution_count": null,
      "metadata": {
        "id": "ZgPg1hqcwc4k",
        "colab": {
          "base_uri": "https://localhost:8080/"
        },
        "outputId": "4780536d-4c40-4b02-f27d-07240beb5afb"
      },
      "outputs": [
        {
          "output_type": "stream",
          "name": "stdout",
          "text": [
            "Andar: 21\n",
            "Andar: 20\n",
            "Andar: 19\n",
            "Andar: 18\n",
            "Andar: 17\n",
            "Andar: 16\n",
            "Andar: 15\n",
            "Andar: 14\n",
            "Andar: 12\n",
            "Andar: 11\n",
            "Andar: 10\n",
            "Andar: 9\n",
            "Andar: 8\n",
            "Andar: 7\n",
            "Andar: 6\n",
            "Andar: 5\n",
            "Andar: 4\n",
            "Andar: 3\n",
            "Andar: 2\n",
            "Andar: 1\n",
            "Andar: Térreo\n"
          ]
        }
      ],
      "source": [
        "for i in range(21,-1,-1):\n",
        "  andarAtual = str(i)\n",
        "  if (i == 13):\n",
        "    continue\n",
        "  elif (i == 0):\n",
        "    andarAtual = \"Térreo\"\n",
        "  print(\"Andar: \" + andarAtual)"
      ]
    },
    {
      "cell_type": "markdown",
      "source": [
        "## Solução 2"
      ],
      "metadata": {
        "id": "56qIoC_h1buY"
      }
    },
    {
      "cell_type": "code",
      "source": [
        "i = 21\n",
        "\n",
        "while i > -1:\n",
        "  andarAtual = str(i)\n",
        "  i -= 1\n",
        "  if (int(andarAtual) == 13):\n",
        "    continue\n",
        "  elif (int(andarAtual) == 0):\n",
        "    andarAtual = \"Térreo\"\n",
        "    print(\"Andar: \" + andarAtual)\n",
        "  else:\n",
        "      print(\"Andar: \" + andarAtual)\n"
      ],
      "metadata": {
        "colab": {
          "base_uri": "https://localhost:8080/"
        },
        "id": "j98NMwWV1gKH",
        "outputId": "dea6bd0c-decf-4047-c0ce-c6f30516d56a"
      },
      "execution_count": null,
      "outputs": [
        {
          "output_type": "stream",
          "name": "stdout",
          "text": [
            "Andar: 21\n",
            "Andar: 20\n",
            "Andar: 19\n",
            "Andar: 18\n",
            "Andar: 17\n",
            "Andar: 16\n",
            "Andar: 15\n",
            "Andar: 14\n",
            "Andar: 12\n",
            "Andar: 11\n",
            "Andar: 10\n",
            "Andar: 9\n",
            "Andar: 8\n",
            "Andar: 7\n",
            "Andar: 6\n",
            "Andar: 5\n",
            "Andar: 4\n",
            "Andar: 3\n",
            "Andar: 2\n",
            "Andar: 1\n",
            "Andar: Térreo\n"
          ]
        }
      ]
    },
    {
      "cell_type": "markdown",
      "source": [
        "##Solução 3"
      ],
      "metadata": {
        "id": "VhZkYrao5ONb"
      }
    },
    {
      "cell_type": "code",
      "source": [
        "andarAtual = 21\n",
        "\n",
        "for i in range(22):\n",
        "  if (i == 8):\n",
        "        andarAtual = andarAtual -1\n",
        "        continue\n",
        "  print(\"Andar: \", andarAtual)\n",
        "  andarAtual = andarAtual -1"
      ],
      "metadata": {
        "colab": {
          "base_uri": "https://localhost:8080/"
        },
        "id": "9ev6HcNt5SrQ",
        "outputId": "63a13050-f4e6-47bb-a51d-b89b39111027"
      },
      "execution_count": null,
      "outputs": [
        {
          "output_type": "stream",
          "name": "stdout",
          "text": [
            "Andar:  21\n",
            "Andar:  20\n",
            "Andar:  19\n",
            "Andar:  18\n",
            "Andar:  17\n",
            "Andar:  16\n",
            "Andar:  15\n",
            "Andar:  14\n",
            "Andar:  12\n",
            "Andar:  11\n",
            "Andar:  10\n",
            "Andar:  9\n",
            "Andar:  8\n",
            "Andar:  7\n",
            "Andar:  6\n",
            "Andar:  5\n",
            "Andar:  4\n",
            "Andar:  3\n",
            "Andar:  2\n",
            "Andar:  1\n",
            "Andar:  0\n"
          ]
        }
      ]
    }
  ]
}