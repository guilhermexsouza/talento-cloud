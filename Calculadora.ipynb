{
  "nbformat": 4,
  "nbformat_minor": 0,
  "metadata": {
    "colab": {
      "provenance": [],
      "authorship_tag": "ABX9TyNGUvU/jxnWPESdkuuxttkJ",
      "include_colab_link": true
    },
    "kernelspec": {
      "name": "python3",
      "display_name": "Python 3"
    },
    "language_info": {
      "name": "python"
    }
  },
  "cells": [
    {
      "cell_type": "markdown",
      "metadata": {
        "id": "view-in-github",
        "colab_type": "text"
      },
      "source": [
        "<a href=\"https://colab.research.google.com/github/guilhermexsouza/talento-cloud/blob/main/Calculadora.ipynb\" target=\"_parent\"><img src=\"https://colab.research.google.com/assets/colab-badge.svg\" alt=\"Open In Colab\"/></a>"
      ]
    },
    {
      "cell_type": "markdown",
      "source": [
        "#Calculadora"
      ],
      "metadata": {
        "id": "zuBPhHtVF9rr"
      }
    },
    {
      "cell_type": "markdown",
      "source": [
        "autor: Guilherme Xavier de Souza\n",
        "\n",
        "INSTRUÇÕES DO PROJETO\n",
        "Faça uma função calculadora de dois números com três parâmetros: os dois primeiros serão os números da operação e o terceiro será a entrada que definirá a operação a ser executada. Considera a seguinte definição:\n",
        "1. Soma\n",
        "2. Subtração\n",
        "3. Multiplicação\n",
        "4. Divisão\n",
        "\n",
        "Caso seja inserido um número de operação que não exista, o resultado deverá ser 0."
      ],
      "metadata": {
        "id": "ZxZaTN4gGQ4x"
      }
    },
    {
      "cell_type": "code",
      "execution_count": 11,
      "metadata": {
        "colab": {
          "base_uri": "https://localhost:8080/"
        },
        "id": "eNKpE2LFF38l",
        "outputId": "62789a0b-f266-4ce0-eac9-94d2d140eabb"
      },
      "outputs": [
        {
          "output_type": "stream",
          "name": "stdout",
          "text": [
            "Digite um número: 2\n",
            "Digite outro número: 5\n",
            "digite 1 para soma \n",
            "digite 2 para subtração \n",
            "digite 3 para multiplicação \n",
            "digite 4 para divisão \n",
            "escolha um operador:3\n",
            "10\n"
          ]
        }
      ],
      "source": [
        "def calculadora(num1, num2, operador):\n",
        "\n",
        "  if operador == 1:\n",
        "    resultado = num1 + num2\n",
        "  elif operador == 2:\n",
        "    resultado = num1 - num2\n",
        "  elif operador == 3:\n",
        "    resultado = num1 * num2\n",
        "  elif operador == 4:\n",
        "    resultado = num1 / num2\n",
        "  else:\n",
        "    resultado = \"Escolha de operador valido\"\n",
        "\n",
        "  return resultado\n",
        "\n",
        "numero1 = int(input(\"Digite um número: \"))\n",
        "numero2 = int(input(\"Digite outro número: \"))\n",
        "operador1 = int(input(\"digite 1 para soma \\ndigite 2 para subtração \\ndigite 3 para multiplicação \\ndigite 4 para divisão \\nescolha um operador:\"))\n",
        "\n",
        "print(calculadora(numero1, numero2, operador1))\n",
        "\n"
      ]
    }
  ]
}