{
  "nbformat": 4,
  "nbformat_minor": 0,
  "metadata": {
    "colab": {
      "provenance": [],
      "authorship_tag": "ABX9TyNdazukq6Dm8FO0GY0nV5YP",
      "include_colab_link": true
    },
    "kernelspec": {
      "name": "python3",
      "display_name": "Python 3"
    },
    "language_info": {
      "name": "python"
    }
  },
  "cells": [
    {
      "cell_type": "markdown",
      "metadata": {
        "id": "view-in-github",
        "colab_type": "text"
      },
      "source": [
        "<a href=\"https://colab.research.google.com/github/guilhermexsouza/talento-cloud/blob/main/calculadoraLoop.ipynb\" target=\"_parent\"><img src=\"https://colab.research.google.com/assets/colab-badge.svg\" alt=\"Open In Colab\"/></a>"
      ]
    },
    {
      "cell_type": "markdown",
      "source": [
        "#Calculadora em Loop\n",
        "\n"
      ],
      "metadata": {
        "id": "XaWEZThtOuAe"
      }
    },
    {
      "cell_type": "markdown",
      "source": [
        "Autor: Guilherme Xavier de Souza\n",
        "\n",
        "INSTRUÇÕES DO PROJETO\n",
        "Faça uma função calculadora que os números e as operações serão feitas pelo usuário. O código deve ficar rodando infinitamente até que o usuário escolha a opção de sair. No início, o programa mostrará a seguinte lista de operações:\n",
        "\n",
        "1: Soma\n",
        "\n",
        "2: Subtração\n",
        "\n",
        "3: Multiplicação\n",
        "\n",
        "4: Divisão\n",
        "\n",
        "0: Sair\n",
        "\n",
        "Digite o número para a operação correspondente e caso o usuário introduza qualquer outro, o sistema deve mostrar a mensagem “Essa opção não existe” e voltar ao menu de opções.\n",
        "\n",
        "Após a seleção, o sistema deve pedir para o usuário inserir o primeiro e segundo valor, um de cada. Depois precisa executar a operação e mostrar o resultado na tela. Quando o usuário escolher a opção “Sair”, o sistema irá parar.\n",
        "\n",
        "É necessário que o sistema mostre as opções sempre que finalizar uma operação e mostrar o resultado."
      ],
      "metadata": {
        "id": "eQLlbf8LO0CB"
      }
    },
    {
      "cell_type": "code",
      "execution_count": 26,
      "metadata": {
        "colab": {
          "base_uri": "https://localhost:8080/"
        },
        "id": "qwpnYmvqOnXd",
        "outputId": "213c9a87-9fb8-45e2-a376-9559acc87966"
      },
      "outputs": [
        {
          "output_type": "stream",
          "name": "stdout",
          "text": [
            "\n",
            " Escolha a operção desejada: \n",
            " 1 Soma \n",
            " 2 Subtração \n",
            " 3 Multiplicação \n",
            " 4 Divisão \n",
            " 0 Sair \n",
            "3\n",
            "Insira o primeiro valor: 2\n",
            "Insira o segundo valor: 5\n",
            "Resultado:  10\n",
            "\n",
            " Escolha a operção desejada: \n",
            " 1 Soma \n",
            " 2 Subtração \n",
            " 3 Multiplicação \n",
            " 4 Divisão \n",
            " 0 Sair \n",
            "0\n",
            "Bye\n"
          ]
        }
      ],
      "source": [
        "def calculadora (escolha, num1, num2):\n",
        "\n",
        "  if escolha > 0 and escolha <=4:\n",
        "    if escolha == 1:\n",
        "      resultado = num1 + num2\n",
        "    elif escolha == 2:\n",
        "      resultado = num1 - num2\n",
        "    elif escolha == 3:\n",
        "      resultado = num1 * num2\n",
        "    else:\n",
        "      resultado = num1 / num2\n",
        "\n",
        "  else:\n",
        "    resultado = \"Essa opção nao existe. \"\n",
        "\n",
        "  return resultado\n",
        "\n",
        "\n",
        "fim = True\n",
        "\n",
        "while fim:\n",
        "\n",
        "  print(\"\\n Escolha a operção desejada: \")\n",
        "  escolha = int(input(\" 1 Soma \\n 2 Subtração \\n 3 Multiplicação \\n 4 Divisão \\n 0 Sair \\n\"))\n",
        "\n",
        "  if escolha == 0:\n",
        "    fim = False\n",
        "    print(\"Bye\")\n",
        "    continue\n",
        "\n",
        "  else:\n",
        "    num1 = int(input(\"Insira o primeiro valor: \"))\n",
        "    num2 = int(input(\"Insira o segundo valor: \"))\n",
        "\n",
        "    resultado = calculadora(escolha, num1, num2)\n",
        "\n",
        "    print(\"Resultado: \" , str(resultado))\n",
        "\n",
        "\n"
      ]
    }
  ]
}