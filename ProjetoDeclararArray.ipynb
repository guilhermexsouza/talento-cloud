{
  "nbformat": 4,
  "nbformat_minor": 0,
  "metadata": {
    "colab": {
      "provenance": [],
      "authorship_tag": "ABX9TyOblRqg5aAe1J+PELbWyI7K",
      "include_colab_link": true
    },
    "kernelspec": {
      "name": "python3",
      "display_name": "Python 3"
    },
    "language_info": {
      "name": "python"
    }
  },
  "cells": [
    {
      "cell_type": "markdown",
      "metadata": {
        "id": "view-in-github",
        "colab_type": "text"
      },
      "source": [
        "<a href=\"https://colab.research.google.com/github/guilhermexsouza/talento-cloud/blob/main/ProjetoDeclararArray.ipynb\" target=\"_parent\"><img src=\"https://colab.research.google.com/assets/colab-badge.svg\" alt=\"Open In Colab\"/></a>"
      ]
    },
    {
      "cell_type": "markdown",
      "source": [
        "#Projeto declarar dois arrays\n",
        "\n",
        "autor: Guilherme Xavier de Souza\n",
        "\n",
        "Declare dois arrays, cada um com um mínimo de cinco elementos, e imprima eles no terminal usando o comando print(). O primeiro array deve conter os produtos de uma loja da sua escolha (loja de comida, materiais de construção, música, etc). O segundo array deve conter os anos de nascimento de familiares e amigos seus. Lembre-se de usar nomes descritivos para nomear cada variável, e de usar o tipo de dado apropriado para cada lista (strings, booleanos, números inteiros, floats)."
      ],
      "metadata": {
        "id": "aW05n3UaYsV1"
      }
    },
    {
      "cell_type": "code",
      "execution_count": null,
      "metadata": {
        "colab": {
          "base_uri": "https://localhost:8080/"
        },
        "id": "U4srBZBXYjfc",
        "outputId": "d8524fc4-371a-488f-8595-06b3ffe70310"
      },
      "outputs": [
        {
          "output_type": "stream",
          "name": "stdout",
          "text": [
            "lista de supermecado: ['Coca Cola', 'Cerveja', 'Picanha', 'Coração de Galinha', 'Pão de alho', 'linguiça']\n",
            "Anos de Nascimentos: [2022, 1993, 1995, 1961, 1952, 1929]\n"
          ]
        }
      ],
      "source": [
        "supermercado = [\"Coca Cola\", \"Cerveja\", \"Picanha\", \"Coração de Galinha\", \"Pão de alho\", \"linguiça\"]\n",
        "\n",
        "AnosNascimentos = [2022, 1993, 1995, 1961, 1952, 1929]\n",
        "\n",
        "print(\"lista de supermecado: \" + str(supermercado))\n",
        "\n",
        "print(\"Anos de Nascimentos:\", AnosNascimentos)"
      ]
    }
  ]
}