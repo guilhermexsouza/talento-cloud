{
  "nbformat": 4,
  "nbformat_minor": 0,
  "metadata": {
    "colab": {
      "provenance": [],
      "authorship_tag": "ABX9TyPEpuyAuO773gF8QwVUvLCo",
      "include_colab_link": true
    },
    "kernelspec": {
      "name": "python3",
      "display_name": "Python 3"
    },
    "language_info": {
      "name": "python"
    }
  },
  "cells": [
    {
      "cell_type": "markdown",
      "metadata": {
        "id": "view-in-github",
        "colab_type": "text"
      },
      "source": [
        "<a href=\"https://colab.research.google.com/github/guilhermexsouza/talento-cloud/blob/main/Idade2022.ipynb\" target=\"_parent\"><img src=\"https://colab.research.google.com/assets/colab-badge.svg\" alt=\"Open In Colab\"/></a>"
      ]
    },
    {
      "cell_type": "markdown",
      "source": [
        "#Idade2022"
      ],
      "metadata": {
        "id": "Ugs0qy2InyjJ"
      }
    },
    {
      "cell_type": "markdown",
      "source": [
        "Autor: Guilherme Xavier de Souza\n",
        "\n",
        "INSTRUÇÕES DO PROJETO\n",
        "Desenvolva um programa que recebe do usuário nome completo e ano de nascimento que seja entre 1922 e 2021.\n",
        "A partir dessas informações, o sistema mostrará o nome do usuário e a idade que completou, ou completará, no ano atual (2022).\n",
        "\n",
        "Caso o usuário não digite um número ou apareça um inválido no campo do ano, o sistema informará o erro e continuará perguntando até que um valor correto seja preenchido."
      ],
      "metadata": {
        "id": "a6dONiPZn4Dk"
      }
    },
    {
      "cell_type": "code",
      "execution_count": 7,
      "metadata": {
        "id": "Zfaj_uRUnZjJ",
        "colab": {
          "base_uri": "https://localhost:8080/"
        },
        "outputId": "00dde4b2-b288-400a-f91e-537c3e5873fe"
      },
      "outputs": [
        {
          "output_type": "stream",
          "name": "stdout",
          "text": [
            "Digite seu nome completo: Guilherme Xavier de Souza\n",
            "Digite seu ano de nascimento: 1921\n",
            "Insira um ano válido!\n",
            "Digite seu ano de nascimento: q\n",
            "Digite um ano válido\n",
            "Digite seu ano de nascimento: 1993\n",
            "Nome: Guilherme Xavier de Souza\n",
            "Idade em 2022:  29\n"
          ]
        }
      ],
      "source": [
        "nome = input(\"Digite seu nome completo: \")\n",
        "validacaoAno = False\n",
        "\n",
        "while validacaoAno == False:\n",
        "  try:\n",
        "    ano = int(input(\"Digite seu ano de nascimento: \"))\n",
        "    if (ano >= 1922 and ano <= 2021):\n",
        "      print(\"Nome: \" + nome)\n",
        "      print(\"Idade em 2022: \", 2022 - ano)\n",
        "      validacaoAno = True\n",
        "    else:\n",
        "      print(\"Insira um ano válido!\")\n",
        "  except:\n",
        "    print(\"Digite um ano válido\")\n",
        "\n",
        "\n",
        "\n"
      ]
    }
  ]
}
