{
  "nbformat": 4,
  "nbformat_minor": 0,
  "metadata": {
    "colab": {
      "provenance": [],
      "authorship_tag": "ABX9TyPneu4k2UB8jgZfu9y7B08u",
      "include_colab_link": true
    },
    "kernelspec": {
      "name": "python3",
      "display_name": "Python 3"
    },
    "language_info": {
      "name": "python"
    }
  },
  "cells": [
    {
      "cell_type": "markdown",
      "metadata": {
        "id": "view-in-github",
        "colab_type": "text"
      },
      "source": [
        "<a href=\"https://colab.research.google.com/github/guilhermexsouza/talento-cloud/blob/main/Projeto_Len_indice.ipynb\" target=\"_parent\"><img src=\"https://colab.research.google.com/assets/colab-badge.svg\" alt=\"Open In Colab\"/></a>"
      ]
    },
    {
      "cell_type": "markdown",
      "source": [
        "# Projeto Len() e indice\n",
        "\n",
        "Autor: Guilherme Xavier de Souza\n",
        "\n",
        "\n",
        "Copie o array apresentado embaixo no seu editor de código, e imprima no terminal: a quantidade de elementos que ele possui, o dado salvo no índice 2, o dado salvo no índice 9, e dado salvo no índice 14.\n",
        "\n",
        "lista_musicos = [ 'Djavan', 'Roberto Carlos', 'Elis Regina', 'Tom Jobim', 'Milton Nascimento', 'Chico Buarque', 'Nara Leão', 'Pitty', 'Simonal', 'Moacir Santos', 'Caetano Veloso', 'Elza Soares', 'Paulinho da Viola', 'Yamandú Costa', 'Gal Costa']"
      ],
      "metadata": {
        "id": "9AXvyPrAeIT1"
      }
    },
    {
      "cell_type": "code",
      "execution_count": 6,
      "metadata": {
        "colab": {
          "base_uri": "https://localhost:8080/"
        },
        "id": "FdiDESkpeC3j",
        "outputId": "918a1616-ca6a-4dfa-edfc-228cbe293faa"
      },
      "outputs": [
        {
          "output_type": "stream",
          "name": "stdout",
          "text": [
            "Quantidade de elementos:  15\n",
            "Índice 2:  Elis Regina\n",
            "Índice 9:  Moacir Santos\n",
            "Índice 14:  Gal Costa\n"
          ]
        }
      ],
      "source": [
        "lista_musicos = [ 'Djavan', 'Roberto Carlos', 'Elis Regina', 'Tom Jobim', 'Milton Nascimento', 'Chico Buarque', 'Nara Leão', 'Pitty', 'Simonal', 'Moacir Santos', 'Caetano Veloso', 'Elza Soares', 'Paulinho da Viola', 'Yamandú Costa', 'Gal Costa']\n",
        "\n",
        "print(\"Quantidade de elementos: \", len(lista_musicos))\n",
        "\n",
        "print(\"Índice 2: \", lista_musicos[2])\n",
        "\n",
        "print(\"Índice 9: \", lista_musicos[9])\n",
        "\n",
        "print(\"Índice 14: \", lista_musicos[14])"
      ]
    }
  ]
}